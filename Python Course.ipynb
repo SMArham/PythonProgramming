{
 "cells": [
  {
   "cell_type": "code",
   "execution_count": 2,
   "id": "e9f3d6ce",
   "metadata": {},
   "outputs": [
    {
     "name": "stdout",
     "output_type": "stream",
     "text": [
      "hello world\n"
     ]
    }
   ],
   "source": [
    "print(\"hello world\")"
   ]
  },
  {
   "cell_type": "code",
   "execution_count": 3,
   "id": "2b500c0b",
   "metadata": {},
   "outputs": [
    {
     "name": "stdout",
     "output_type": "stream",
     "text": [
      "enter first value10\n",
      "enter second value10\n",
      "enter operator+\n",
      "20 answer\n"
     ]
    }
   ],
   "source": [
    "val1=input('enter first value')\n",
    "val2=input('enter second value')\n",
    "operator =input ('enter operator')\n",
    "val1=int(val1)\n",
    "val2=int(val2)\n",
    "\n",
    "if operator =='+':\n",
    "    val=val1+val2\n",
    "    print(val,'answer')\n",
    "elif operator =='-':\n",
    "    val=val1-val2\n",
    "    print(val,'answer')\n",
    "elif operator =='*':\n",
    "    val=val1*val2\n",
    "    print(val,'answer')\n",
    "elif operator =='/':\n",
    "    val=val1/val2\n",
    "    print(val,'answer')\n",
    "else:\n",
    "    print('enter correct operator')"
   ]
  },
  {
   "cell_type": "code",
   "execution_count": 10,
   "id": "8aba60cc",
   "metadata": {},
   "outputs": [
    {
     "name": "stdout",
     "output_type": "stream",
     "text": [
      "1: What is your country name\n",
      "Please write the correct answer in the input field:\n",
      "USA\n",
      "PAKISTAN\n",
      "UAE\n",
      "pakistan\n",
      "2: What is your city name\n",
      "Please write the correct answer in the input field:\n",
      "london\n",
      "karachi\n",
      "new york\n",
      "karachi\n",
      "3: What is the name of the capital city of Pakistan\n",
      "Please write the correct answer in the input field:\n",
      "islamabad\n",
      "PAKISTAN\n",
      "UAE\n",
      "islamabad\n",
      "Your score is: 3\n"
     ]
    }
   ],
   "source": [
    "question = [\n",
    "    {\n",
    "        \"S no.\": 1,\n",
    "        \"question\": \"What is your country name\",\n",
    "        \"option\": [\"USA\", \"PAKISTAN\", \"UAE\"],\n",
    "        \"ANSWER\": \"PAKISTAN\"\n",
    "    },\n",
    "    {\n",
    "        \"S no.\": 2,\n",
    "        \"question\": \"What is your city name\",\n",
    "        \"option\": [\"london\", \"karachi\", \"new york\"],\n",
    "        \"ANSWER\": \"karachi\"\n",
    "    },\n",
    "    {\n",
    "        \"S no.\": 3,\n",
    "        \"question\": \"What is the name of the capital city of Pakistan\",\n",
    "        \"option\": [\"islamabad\", \"PAKISTAN\", \"UAE\"],\n",
    "        \"ANSWER\": \"islamabad\"\n",
    "    }\n",
    "]\n",
    "\n",
    "score = 0\n",
    "for ques in question:\n",
    "    data = (\n",
    "        str(ques[\"S no.\"]) + \": \" + ques[\"question\"] + \"\\nPlease write the correct answer in the input field:\\n\"\n",
    "        + ques[\"option\"][0] + \"\\n\" + ques[\"option\"][1] + \"\\n\" + ques[\"option\"][2] + \"\\n\"\n",
    "    )\n",
    "    answer = input(data)\n",
    "    if answer.lower() == ques[\"ANSWER\"].lower():\n",
    "        score += 1\n",
    "\n",
    "print(\"Your score is: \" + str(score))\n"
   ]
  },
  {
   "cell_type": "code",
   "execution_count": 15,
   "id": "01c73f46",
   "metadata": {},
   "outputs": [
    {
     "name": "stdout",
     "output_type": "stream",
     "text": [
      "15\n",
      "15\n",
      "15\n"
     ]
    }
   ],
   "source": [
    "def addition():\n",
    "    num_1 = 5\n",
    "    num_2 =10\n",
    "    total =num_1+num_2\n",
    "    print(total)\n",
    "addition()\n",
    "addition()\n",
    "addition()"
   ]
  },
  {
   "cell_type": "code",
   "execution_count": 4,
   "id": "1900dd4e",
   "metadata": {
    "scrolled": true
   },
   "outputs": [
    {
     "name": "stdout",
     "output_type": "stream",
     "text": [
      "syed\n",
      "arham\n"
     ]
    }
   ],
   "source": [
    "def full_name(first_name,last_name):\n",
    "    complete_name=(first_name + \"\\n\" + last_name)\n",
    "    print(complete_name)\n",
    "\n",
    "full_name(\"syed\",\"arham\")"
   ]
  },
  {
   "cell_type": "code",
   "execution_count": 14,
   "id": "132d13a2",
   "metadata": {},
   "outputs": [
    {
     "name": "stdout",
     "output_type": "stream",
     "text": [
      "18\n"
     ]
    }
   ],
   "source": [
    "def addition(a,b,c):\n",
    "    total=(a+b+c)\n",
    "    print(total)\n",
    "    \n",
    "addition(4,8,6)\n",
    "    "
   ]
  },
  {
   "cell_type": "code",
   "execution_count": 3,
   "id": "63551736",
   "metadata": {},
   "outputs": [
    {
     "name": "stdout",
     "output_type": "stream",
     "text": [
      "33\n"
     ]
    }
   ],
   "source": [
    "def addnum():\n",
    "    firstnum=\"3\"\n",
    "    secondnum=\"3\"\n",
    "    result=(firstnum+secondnum)\n",
    "    print(result)\n",
    "addnum()"
   ]
  },
  {
   "cell_type": "code",
   "execution_count": 15,
   "id": "c8d0a478",
   "metadata": {},
   "outputs": [
    {
     "name": "stdout",
     "output_type": "stream",
     "text": [
      "syed\n",
      "arham\n"
     ]
    }
   ],
   "source": [
    "def addnum():\n",
    "    firstnum=\"syed\" \"\\n\"\n",
    "    secondnum=\"arham\"\n",
    "    result=(firstnum+secondnum)\n",
    "    print(result)\n",
    "addnum()"
   ]
  },
  {
   "cell_type": "code",
   "execution_count": null,
   "id": "0a26436f",
   "metadata": {},
   "outputs": [],
   "source": [
    "inst=\"SMIT\"\n",
    "\n",
    "def coursedetail(inst,dur,lang=\"phyton programming\"):\n",
    "    print(inst+ \"  \" +lang + \" \" +dur)\n",
    "coursedetail(inst,dur=\"3 months\")"
   ]
  },
  {
   "cell_type": "code",
   "execution_count": null,
   "id": "188c2525",
   "metadata": {},
   "outputs": [],
   "source": []
  }
 ],
 "metadata": {
  "kernelspec": {
   "display_name": "Python 3 (ipykernel)",
   "language": "python",
   "name": "python3"
  },
  "language_info": {
   "codemirror_mode": {
    "name": "ipython",
    "version": 3
   },
   "file_extension": ".py",
   "mimetype": "text/x-python",
   "name": "python",
   "nbconvert_exporter": "python",
   "pygments_lexer": "ipython3",
   "version": "3.10.9"
  }
 },
 "nbformat": 4,
 "nbformat_minor": 5
}
